{
 "cells": [
  {
   "cell_type": "code",
   "execution_count": 1,
   "id": "6ee876e7",
   "metadata": {},
   "outputs": [],
   "source": [
    "# from tkinter import *\n",
    "# from geopy.geocoders import Nominatim\n",
    "\n",
    "# # Create an instance of tkinter frame\n",
    "# win = Tk()\n",
    "\n",
    "# # Define geometry of the window\n",
    "# win.geometry(\"700x350\")\n",
    "\n",
    "# # Initialize Nominatim API\n",
    "# geolocator = Nominatim(user_agent=\"MyApp\")\n",
    "\n",
    "# # Latitude & Longitude input\n",
    "# coordinates = \"17.3850 , 78.4867\"\n",
    "\n",
    "# location = geolocator.reverse(coordinates)\n",
    "\n",
    "# address = location.raw['address']\n",
    "\n",
    "# # Traverse the data\n",
    "# city = address.get('city', '')\n",
    "# state = address.get('state', '')\n",
    "# country = address.get('country', '')\n",
    "\n",
    "# # Create a Label widget\n",
    "# label1=Label(text=\"Given Latitude and Longitude: \" + coordinates, font=(\"Calibri\", 24, \"bold\"))\n",
    "# label1.pack(pady=20)\n",
    "\n",
    "# label2=Label(text=\"The city is: \" + city, font=(\"Calibri\", 24, \"bold\"))\n",
    "# label2.pack(pady=20)\n",
    "\n",
    "# label3=Label(text=\"The state is: \" + state, font=(\"Calibri\", 24, \"bold\"))\n",
    "# label3.pack(pady=20)\n",
    "# win.bind('<Return>',lambda event:callback())\n",
    "# win.mainloop()"
   ]
  },
  {
   "cell_type": "code",
   "execution_count": 2,
   "id": "3c276e90",
   "metadata": {},
   "outputs": [],
   "source": [
    "import tweepy\n",
    "\n",
    "# Variables that contains the credentials to access Twitter API\n",
    "ACCESS_TOKEN = '1574425806545117184-7A5qOM7dRe5UjCCuUVdzjbmuhOeICr'\n",
    "ACCESS_SECRET = 'lyz9sy828kUYX0c2429lce4eCjFJR0RHKx0189BczBczz'\n",
    "CONSUMER_KEY = 'qkBxRRYAv1KGXLLQqg6FkzlP4'\n",
    "CONSUMER_SECRET = '3rAK403gUYnKAmccEO2sQOKjnakjZuPS9uyQZ97UZuSrnalAUi'\n",
    "\n",
    "\n",
    "# Setup access to API\n",
    "def connect_to_twitter_OAuth():\n",
    "    auth = tweepy.OAuthHandler(CONSUMER_KEY, CONSUMER_SECRET)\n",
    "    auth.set_access_token(ACCESS_TOKEN, ACCESS_SECRET)\n",
    "\n",
    "    api = tweepy.API(auth)\n",
    "    return api\n",
    "\n",
    "\n",
    "# Create API object\n",
    "api = connect_to_twitter_OAuth()"
   ]
  },
  {
   "cell_type": "code",
   "execution_count": 3,
   "id": "57a08b22",
   "metadata": {},
   "outputs": [],
   "source": [
    "# # tweets from my stream\n",
    "# public_tweets = api.home_timeline()b\n",
    "# for tweet in public_tweets:\n",
    "#     print(tweet.text)"
   ]
  },
  {
   "cell_type": "code",
   "execution_count": 4,
   "id": "c180dbcc",
   "metadata": {},
   "outputs": [
    {
     "name": "stdout",
     "output_type": "stream",
     "text": [
      "@aapkajags @8teen_wolff Kjo is casting you in his next romcom\n",
      "देशाच्या राजकारणातील एक अभ्यासू व्यक्तिमत्व पुरोगामी विचारांचा महाराष्ट्र पुढे नेण्यात मोलाचा वाटा असलेले महाराष्ट्राचे पहिले मुख्यमंत्री यशवंतराव चव्हाण साहेब यांना जयंती दिनी विनम्र अभिवादन.🙏 https://t.co/GZt6UqHgxK\n",
      "@smitadeshmukh This is a small Samarak at the bus stop https://t.co/I9EsXaVck8\n",
      "@chetana_cg @DrSundr Woh to unka badappan hain.  Aap Ki bat rakh di.\n",
      "@Aradhayasinha2 Hi good morning.7021016998\n"
     ]
    }
   ],
   "source": [
    "lat = \"19.126904881183968\"\n",
    "long = \"72.91435938883367\"\n",
    "places = api.search_geo(lat = \"19.126904881183968\", long = \"72.91435938883367\", granularity=\"city\")\n",
    "\n",
    "# for place in places:    \n",
    "#     print(\"placeid:%s\" % place)\n",
    "placed = \"placeid:%s\" % places\n",
    "\n",
    "#item iterator class \n",
    "public_tweets = tweepy.Cursor(api.search_tweets, count=100,q=\"place:%s\" % places[0].id, tweet_mode=\"extended\").items(5)                            \n",
    "for tweet in public_tweets:\n",
    "    print(tweet.full_text)\n",
    "\n",
    "# api.search_geo(*, lat, long, query, ip, granularity, max_results)"
   ]
  },
  {
   "cell_type": "code",
   "execution_count": 5,
   "id": "fb97d4f1",
   "metadata": {
    "scrolled": true
   },
   "outputs": [
    {
     "data": {
      "text/plain": [
       "<tweepy.cursor.ItemIterator at 0x22c9f737670>"
      ]
     },
     "execution_count": 5,
     "metadata": {},
     "output_type": "execute_result"
    }
   ],
   "source": [
    "public_tweets"
   ]
  }
 ],
 "metadata": {
  "kernelspec": {
   "display_name": "Python 3 (ipykernel)",
   "language": "python",
   "name": "python3"
  },
  "language_info": {
   "codemirror_mode": {
    "name": "ipython",
    "version": 3
   },
   "file_extension": ".py",
   "mimetype": "text/x-python",
   "name": "python",
   "nbconvert_exporter": "python",
   "pygments_lexer": "ipython3",
   "version": "3.9.13"
  }
 },
 "nbformat": 4,
 "nbformat_minor": 5
}
