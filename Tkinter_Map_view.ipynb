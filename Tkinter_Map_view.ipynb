{
 "cells": [
  {
   "cell_type": "code",
   "execution_count": 31,
   "id": "e8ec4135",
   "metadata": {},
   "outputs": [],
   "source": [
    "# https://github.com/TomSchimansky/TkinterMapView"
   ]
  },
  {
   "cell_type": "code",
   "execution_count": 32,
   "id": "d238fee2",
   "metadata": {},
   "outputs": [],
   "source": [
    "import tweepy\n",
    "from tkinter import *\n",
    "import tkinter as tk\n",
    "import tkintermapview as tkm\n",
    "from geopy.geocoders import Nominatim\n",
    "import pickle\n",
    "import math"
   ]
  },
  {
   "cell_type": "code",
   "execution_count": 33,
   "id": "7235875c",
   "metadata": {},
   "outputs": [],
   "source": [
    "from sklearn.feature_extraction.text import CountVectorizer\n",
    "from sklearn.feature_extraction.text import TfidfTransformer\n",
    "from sklearn.pipeline import Pipeline\n",
    "from sklearn.feature_extraction.text import TfidfVectorizer\n",
    "from sklearn.svm import LinearSVC"
   ]
  },
  {
   "cell_type": "code",
   "execution_count": null,
   "id": "7ec3f77c",
   "metadata": {},
   "outputs": [],
   "source": []
  },
  {
   "cell_type": "code",
   "execution_count": 34,
   "id": "adb3f303",
   "metadata": {},
   "outputs": [],
   "source": [
    "# [13:51, 11/03/2023] Abhay: api key qkBxRRYAv1KGXLLQqg6FkzlP4\n",
    "# [13:52, 11/03/2023] Abhay: api key secret 3rAK403gUYnKAmccEO2sQOKjnakjZuPS9uyQZ97UZuSrnalAUi\n",
    "# [13:52, 11/03/2023] Abhay: bearer token AAAAAAAAAAAAAAAAAAAAAE2FhwEAAAAAlknGU863CmXhK7OCQLNZxnQtEZ0%3DE1OsLHbSOtLvPG4VQlWWO7WlOkJpxnzmMkRig0AuxIKIDQ1UGY\n",
    "# [13:53, 11/03/2023] Abhay: access token 1574425806545117184-7A5qOM7dRe5UjCCuUVdzjbmuhOeICr\n",
    "# [13:53, 11/03/2023] Abhay: access token secret lyz9sy828kUYX0c2429lce4eCjFJR0RHKx0189BczBczz"
   ]
  },
  {
   "cell_type": "code",
   "execution_count": 35,
   "id": "ab66df32",
   "metadata": {},
   "outputs": [],
   "source": [
    "#fetch live tweets\n",
    "import tweepy\n",
    "\n",
    "# Variables that contains the credentials to access Twitter API\n",
    "ACCESS_TOKEN = '1574425806545117184-7A5qOM7dRe5UjCCuUVdzjbmuhOeICr'\n",
    "ACCESS_SECRET = 'lyz9sy828kUYX0c2429lce4eCjFJR0RHKx0189BczBczz'\n",
    "CONSUMER_KEY = 'qkBxRRYAv1KGXLLQqg6FkzlP4'\n",
    "CONSUMER_SECRET = '3rAK403gUYnKAmccEO2sQOKjnakjZuPS9uyQZ97UZuSrnalAUi'\n",
    "\n",
    "\n",
    "# Setup access to API\n",
    "def connect_to_twitter_OAuth():\n",
    "    auth = tweepy.OAuthHandler(CONSUMER_KEY, CONSUMER_SECRET)\n",
    "    auth.set_access_token(ACCESS_TOKEN, ACCESS_SECRET)\n",
    "\n",
    "    api = tweepy.API(auth)\n",
    "    return api\n",
    "\n",
    "\n",
    "# Create API object\n",
    "api = connect_to_twitter_OAuth()"
   ]
  },
  {
   "cell_type": "code",
   "execution_count": 36,
   "id": "4045570c",
   "metadata": {},
   "outputs": [
    {
     "data": {
      "text/plain": [
       "''"
      ]
     },
     "execution_count": 36,
     "metadata": {},
     "output_type": "execute_result"
    }
   ],
   "source": [
    "root_tk = tk.Tk()\n",
    "root_tk.geometry(f\"{800}x{600}\")\n",
    "root_tk.title(\"map_view.py\")\n",
    "\n"
   ]
  },
  {
   "cell_type": "code",
   "execution_count": 37,
   "id": "7de6a85c",
   "metadata": {},
   "outputs": [],
   "source": [
    "model_ops_list = [\"BERT\", \"SVC\"]\n",
    "value_inside = tk.StringVar(root_tk)# text in the select option\n",
    "value_inside.set(\"Select a Model\")\n",
    "model_select = tk.StringVar(root_tk)# text in the select option\n",
    "drop = tk.OptionMenu(root_tk, value_inside, *model_ops_list,\n",
    "#                      relief = GROOVE\n",
    "                    )\n",
    "drop.grid(row=0, column=0)\n"
   ]
  },
  {
   "cell_type": "code",
   "execution_count": 38,
   "id": "b8fb84d6",
   "metadata": {},
   "outputs": [],
   "source": [
    "def search_event(event=None):\n",
    "    map_widget.set_address(search_bar.get())"
   ]
  },
  {
   "cell_type": "code",
   "execution_count": 39,
   "id": "73e4c68d",
   "metadata": {},
   "outputs": [],
   "source": [
    "search_bar = tk.Entry(root_tk, width=50, relief = GROOVE)\n",
    "search_bar.grid(row=0, column=1, pady=10, padx=10, sticky=\"we\")\n",
    "search_bar.focus()\n",
    "\n",
    "search_bar_button = tk.Button(root_tk, width=8, text=\"Search\", command=search_event, relief = GROOVE)\n",
    "search_bar_button.grid(row=0, column=2, pady=10, padx=10)\n",
    "\n",
    "# search_bar_clear = tk.Button(root_tk, width=8, text=\"Clear\", command=clear)\n",
    "# search_bar_clear.grid(row=0, column=2, pady=10, padx=10)"
   ]
  },
  {
   "cell_type": "code",
   "execution_count": 40,
   "id": "83c72358",
   "metadata": {},
   "outputs": [],
   "source": [
    "# create map widget\n",
    "map_widget = tkm.TkinterMapView(root_tk, width=800, height=600, corner_radius=0)\n",
    "map_widget.place(relx=0.5, rely=0.5, anchor=tk.CENTER)\n",
    "map_widget.grid(row=1, column=1, columnspan=2, sticky=\"nsew\")\n",
    "# tk.search_marker = None\n",
    "# tk.search_in_progress = False"
   ]
  },
  {
   "cell_type": "code",
   "execution_count": 41,
   "id": "f0be34f4",
   "metadata": {},
   "outputs": [],
   "source": [
    "def define_poly(coords):\n",
    "    deg = 0\n",
    "    poly = []\n",
    "    while deg < 2*math.pi:# in the form [()]\n",
    "        poly.append((coords[0] + (0.01*math.cos(deg)), coords[1] + (0.01*math.sin(deg))))\n",
    "        deg = deg + (2*math.pi/360)\n",
    "    return poly"
   ]
  },
  {
   "cell_type": "code",
   "execution_count": 42,
   "id": "57820edd",
   "metadata": {},
   "outputs": [],
   "source": [
    "def add_marker_event(coords):\n",
    "#     global to_be_classified\n",
    "    print(\"Add marker:\", coords)\n",
    "    new_marker = map_widget.set_marker(coords[0], coords[1], text=\"new marker\")\n",
    "    poly = define_poly(coords)\n",
    "#     print(new_marker.position, new_marker.text)  # get position and text\n",
    "    to_be_classified = find_tweet(coords)\n",
    "    pred_condition = prediction(to_be_classified)\n",
    "    if pred_condition:\n",
    "        polygon_1 = map_widget.set_polygon(poly, fill_color= \"red\", outline_color=\"red\", name=\"disaster_affected_area\")\n",
    "    else:\n",
    "        polygon_1 = map_widget.set_polygon(poly, fill_color= \"green\", outline_color=\"green\", name=\"disaster_affected_area\")\n",
    "    \n",
    "    print(f\"\\n\\n {to_be_classified}\")\n",
    "    \n",
    "\n",
    "    \n",
    "\n",
    "map_widget.add_right_click_menu_command(label=\"Add Marker\",\n",
    "                                        command=add_marker_event,\n",
    "                                        pass_coords=True)\n"
   ]
  },
  {
   "cell_type": "code",
   "execution_count": 43,
   "id": "881c739f",
   "metadata": {},
   "outputs": [],
   "source": [
    "# Initialize Nominatim API\n",
    "def find_tweet(coords):\n",
    "    to_be_classified = []#this is going to be passed ahead\n",
    "    coord_str = str(coords[0]) + \", \" + str(coords[1])     \n",
    "    print(\"cordinates are: \", coords)\n",
    "    geolocator = Nominatim(user_agent=\"MyApp\")\n",
    "    # Latitude & Longitude input\n",
    "    coordinates = coord_str\n",
    "    location = geolocator.reverse(coordinates)\n",
    "    address = location.raw['address']\n",
    "    # Traverse the data\n",
    "    city = address.get('city', '')\n",
    "    state = address.get('state', '')\n",
    "    country = address.get('country', '')\n",
    "    print(f\"{city} \\n{state} \\n{country} \\n\")\n",
    "    places = api.search_geo(lat = coords[0], long = coords[1], granularity=\"city\")\n",
    "    # for place in places:    \n",
    "    #     print(\"placeid:%s\" % place)\n",
    "    placed = \"placeid:%s\" % places\n",
    "    #item iterator class \n",
    "    public_tweets = tweepy.Cursor(api.search_tweets, count=5,q=\"place:%s\" % places[0].id, tweet_mode=\"extended\", lang = \"en\").items(50)                            \n",
    "    for tweet in public_tweets:\n",
    "        to_be_classified.append(tweet.full_text)\n",
    "        print(\"result of the find tweet function\", tweet.full_text)\n",
    "    return to_be_classified"
   ]
  },
  {
   "cell_type": "code",
   "execution_count": 44,
   "id": "812e08ac",
   "metadata": {},
   "outputs": [],
   "source": [
    "def prediction(to_be_classified):\n",
    "    print(value_inside.get())\n",
    "    if value_inside.get() == \"SVC\":\n",
    "        filename = '/Major_Project/models/text_clf.sav'\n",
    "        loaded_model = pickle.load(open(filename, 'rb'))\n",
    "    elif value_inside.get() == \"BERT\":\n",
    "        import os\n",
    "        os.environ['TF_CPP_MIN_LOG_LEVEL'] = '3' \n",
    "        import tensorflow as tf\n",
    "        import tensorflow_hub as hub\n",
    "        import tensorflow_text as text\n",
    "        from sklearn.model_selection import train_test_split\n",
    "        print('Tensorflow module imported')\n",
    "        loaded_model = tf.keras.models.load_model('/Major_Project/models/bert_success_1/bert_success_1')\n",
    "    else:\n",
    "        filename = '/Major_Project/models/text_clf.sav'\n",
    "        loaded_model = pickle.load(open(filename, 'rb'))\n",
    "        \n",
    "    predictions = loaded_model.predict(to_be_classified)\n",
    "    print(f\"\\n\\n {loaded_model.predict(to_be_classified)}\")\n",
    "    disaster = 0 #count number of disaster events\n",
    "    for i in predictions:\n",
    "        if i:\n",
    "            disaster +=1\n",
    "    dis_cond = disaster / len(predictions)\n",
    "    if dis_cond > 0.5:\n",
    "        return 1\n",
    "    else:\n",
    "        return 0\n"
   ]
  },
  {
   "cell_type": "code",
   "execution_count": null,
   "id": "7498e073",
   "metadata": {},
   "outputs": [],
   "source": [
    "pip install"
   ]
  },
  {
   "cell_type": "code",
   "execution_count": null,
   "id": "1271588b",
   "metadata": {},
   "outputs": [],
   "source": []
  },
  {
   "cell_type": "code",
   "execution_count": null,
   "id": "3ae4b5b2",
   "metadata": {},
   "outputs": [],
   "source": []
  },
  {
   "cell_type": "code",
   "execution_count": null,
   "id": "71934b3f",
   "metadata": {},
   "outputs": [],
   "source": []
  },
  {
   "cell_type": "code",
   "execution_count": null,
   "id": "f1ef5fbd",
   "metadata": {},
   "outputs": [],
   "source": []
  },
  {
   "cell_type": "code",
   "execution_count": 45,
   "id": "38b73dfe",
   "metadata": {
    "scrolled": true
   },
   "outputs": [
    {
     "name": "stdout",
     "output_type": "stream",
     "text": [
      "Add marker: (52.516594443015485, 13.37689033729552)\n",
      "cordinates are:  (52.516594443015485, 13.37689033729552)\n",
      "Berlin \n",
      " \n",
      "Deutschland \n",
      "\n",
      "result of the find tweet function @slowberlin Sitting in here now, reading this tweet.\n",
      "result of the find tweet function Excited to get to #FlutterForward Berlin event 💙  \n",
      "Despite all the odds!! https://t.co/9ykvOH6Uys\n",
      "result of the find tweet function @timthetwinky Sexy\n",
      "result of the find tweet function Iheanacho to Watkins for a - 4? With him being out of form and Barnes being back as well as Daka starting the last game and scoring I’m concerned about his minutes! Thoughts? #FPL\n",
      "result of the find tweet function Why this flyer rip off Smile like that? https://t.co/CcfEHrEf7W https://t.co/0hZ6oNRpOM\n",
      "result of the find tweet function He couldn’t find elephants in Nairobi, but got a lot of insights about #flutter Now @ShuregDenisov is on the stage with “Flutter Forward Takeaways. What's next?” 💙 #flutterforward ✨ https://t.co/7oGdd1bA8l\n",
      "result of the find tweet function #FBvSVL Stop provoking @Fenerbahce fans!!\n",
      "result of the find tweet function @GrantTripple @iamdeanzz the grandpa is getting crazy\n",
      "result of the find tweet function #FBvSVL referee sucks!!\n",
      "result of the find tweet function Sigh the petition! https://t.co/jueEAV1PHr\n",
      "result of the find tweet function I'm at FRAGILE\n",
      "https://t.co/vaZNA1wDDp\n",
      "result of the find tweet function Hell fucking yeah\n",
      "\n",
      "Full support for this, today / everyday / for an eternity https://t.co/YRDRoGuEok\n",
      "result of the find tweet function @john4brexit No, the truth.\n",
      "result of the find tweet function 👌 This 👇\n",
      "\n",
      "🇫🇷 La France n'est pas une démocratie parlementaire\n",
      "🇫🇷 France isn't a parliamentary democracy\n",
      "🇫🇷 Frankreich ist keine parlamentarische Demokratie\n",
      "\n",
      "IMHO even more 🟦 presidential than 🟨 semi-presidential = 🇹🇷 🇨🇾 \n",
      "\n",
      "Unlike most of the rest in Europe 🟧🟥\n",
      "\n",
      "#FRinEU https://t.co/WJVe2vXKcy https://t.co/51d03ByV5w\n",
      "result of the find tweet function @tomhfh @Omnisis A poll is not science\n",
      "result of the find tweet function @ShuregDenisov in da house ✊\n",
      "\n",
      "#FlutterForwardExtended https://t.co/sbSBHylDRl\n",
      "result of the find tweet function All natives are to be supported and protected, also the European, also the German natives. https://t.co/NB9JTgksra\n",
      "result of the find tweet function literally one of the best actresses of all time. i want her to win an oscar next. https://t.co/LY6fyZm33I\n",
      "result of the find tweet function Are you in Berlin today? Don't miss out on the opening programme of the #DemokratieinProgress festival by @FuturiumD. Discover our \"The Opinionator\" experience in the Futurium Lab. More info: https://t.co/LyJ02gsX0L https://t.co/SJgRyYHQkD\n",
      "result of the find tweet function @recordscientist @CptNiightmare Was bitte?\n",
      "result of the find tweet function power of a unicorn oder so https://t.co/NiBhpZgBpd\n",
      "result of the find tweet function The exhibition is running for all of 2023. Here is the program👇🏾\n",
      "https://t.co/L2BRmtHO4t\n",
      "result of the find tweet function @B1ORK People masturbating to your picture, probably\n",
      "result of the find tweet function Happy to see the new @FuturiumD exhibition entitled: “#democracy in progress” with my 2 cents on why democracies are better than autocracies at solving humanities most pressing problems and how they should cooperate with autocrats when needed.\n",
      "\n",
      "If you are in Berlin check it out! https://t.co/qIg1rtaB54\n",
      "result of the find tweet function It's Kotlin time! https://t.co/kVFPdfbM0F\n",
      "result of the find tweet function international motion… 💅🏾😌\n",
      " 🇩🇪 📍3rd time here. https://t.co/xel9RMaFqK\n",
      "result of the find tweet function For the lives lost we remember.\n",
      "Berlin, Germany.\n",
      "November, 2022.\n",
      "#berlin #germany #holocaustmemorial #blackandwhitephotography #streetphotography #fuji #fujifilm #fujifilm_xseries https://t.co/83AybdC9V2\n",
      "result of the find tweet function @judithdschwartz Thank you for sharing!\n",
      "result of the find tweet function @DeichCruiser Wendlers hose ? Hmmmm\n",
      "result of the find tweet function Last week, Netanyahu had to be airlifted to TLV airport for an overseas state visit after protesters blocked the road leading there, holding signs that read \"don't come back!\"\n",
      "\n",
      "Tens of thousands have been attending weekly protests across the country each Saturday night.\n",
      "result of the find tweet function @fotostrasse Should be that way up really as what we call the South pole is actually like a magnet's North pole, because the pole of a magnet we call North is attracted to the one we call North on our planet, ergo that must be South and visa versa! 😜\n",
      "result of the find tweet function @intel @Microsoft With stream deck support I can’t stop laughing.\n",
      "result of the find tweet function @WholeMarsBlog I don’t see these mass produced cars driving around autonomous „en mass“. Do you?\n",
      "result of the find tweet function @MotherFaulk92 @CutsieSasha @Arizona_LP @POTUS Please define corporatism for me and show me were capitalism that isn't that ever has occurred. 🤡\n",
      "result of the find tweet function In Berlin, Netanyahu argued that his plans merely sought to bring Israel's democracy \"in line with what is common and acceptable in just about every Western democracy.\"\n",
      "\n",
      "Meanwhile, several hundred demonstrators protested against his policies near the city's Brandenburg Gate. https://t.co/gLG7LzGdBg\n",
      "result of the find tweet function Hey, i am using AlfaBit Miner app for free bitcoin mining in android..\n",
      "\n",
      " Download it from here \n",
      "https://t.co/mDFtdMLNva and earn 10$ worth of bitcoin instantly when you're using my invitation code in the signup window. \n",
      "\n",
      "My code is:NX0wx1\n",
      "result of the find tweet function Hey, i am using AlfaBit Miner app for free bitcoin mining in android..\n",
      "\n",
      " Download it from here \n",
      "https://t.co/crwuw4Hhz7 and earn 10$ worth of bitcoin instantly when you're using my invitation code in the signup window. \n",
      "\n",
      "My code is:NX0wx1\n",
      "result of the find tweet function @aonanuga1956 Good one, however, the 2 can coexist. We can both the govt of national unity and national competence.\n",
      "result of the find tweet function Agreeing to sth doesn’t mean going through it .\n",
      "result of the find tweet function @QprEver Is this a parody account???\n",
      "result of the find tweet function @dsgnnina @dead_seagull_ @ezekielartt @xsullo @leaf_swan @HoizonArt @jason_balducci @shahparism1 Thank you so much! 🫂🫂🫂\n",
      "result of the find tweet function We started Flutter Forward Extended Berlin! ✨ #flutter #flutterforward 💙 https://t.co/D8zkhp2Lu8\n",
      "result of the find tweet function Instead of responding I more often select the I'm not interested in this tweet option for Elon... https://t.co/BrGWrB0qb1\n",
      "result of the find tweet function @cherrysberries Most likely the patient had private insurance?\n",
      "result of the find tweet function The planned judicial reform has sparked weeks of protests in Israel since its introduction by Netanyahu's far-right coalition, prompting the president to warn the nation may be on the brink of \"civil war.\"\n",
      "\n",
      "Scholz admitted he was watching the debate unfold \"with great concern.\"\n",
      "result of the find tweet function @andrewbutler99 @MikeDLondon @jrk47 @NJ_Timothy I don't like it, cause it's unnecessary/a bit too obvious. I was pleasantly surprised to hear that Spielberg apparently regrets it, seeing it as schmaltzy and detracting from the natural emotions of the ghetto clearance sequence.\n",
      "result of the find tweet function 👋🏼 To all the CEOs out there who might be interested in replacing their employees with autonomous, AI-powered robots. It looks like it actually makes the most sense to put your job on the proverbial chopping block instead. Via @futurism.\n",
      "https://t.co/KL2twUfLs6\n",
      "#ai #work #replace\n",
      "result of the find tweet function Israeli PM Benjamin Netanyahu fiercely defended disputed legal reforms on a visit to Berlin, where German Chancellor Olaf Scholz urged him to reconsider a compromise.\n",
      "\n",
      "Meanwhile, crowds of Israelis were protesting his judicial overhaul near Brandenburg Gate. https://t.co/TQozgvys0Z\n",
      "result of the find tweet function @drewlpool @Mikechrs961 Ah, okay. Thank you! Well, I guess I am a bit stupid sometimes. 🤦‍♀️😂\n",
      "result of the find tweet function @ianvward @gordon_riches @kochwatcher @bill_howarth I'd like that too.\n",
      "BERT\n"
     ]
    },
    {
     "name": "stderr",
     "output_type": "stream",
     "text": [
      "Exception in Tkinter callback\n",
      "Traceback (most recent call last):\n",
      "  File \"C:\\Users\\abhi1\\anaconda3\\lib\\tkinter\\__init__.py\", line 1892, in __call__\n",
      "    return self.func(*args)\n",
      "  File \"C:\\Users\\abhi1\\AppData\\Local\\Temp\\ipykernel_10420\\1468744194.py\", line 8, in add_marker_event\n",
      "    pred_condition = prediction(to_be_classified)\n",
      "  File \"C:\\Users\\abhi1\\AppData\\Local\\Temp\\ipykernel_10420\\177946943.py\", line 11, in prediction\n",
      "    import tensorflow_text as text\n",
      "  File \"C:\\Users\\abhi1\\AppData\\Roaming\\Python\\Python39\\site-packages\\tensorflow_text\\__init__.py\", line 21, in <module>\n",
      "    from tensorflow_text.python import keras\n",
      "  File \"C:\\Users\\abhi1\\AppData\\Roaming\\Python\\Python39\\site-packages\\tensorflow_text\\python\\keras\\__init__.py\", line 21, in <module>\n",
      "    from tensorflow_text.python.keras.layers import *\n",
      "  File \"C:\\Users\\abhi1\\AppData\\Roaming\\Python\\Python39\\site-packages\\tensorflow_text\\python\\keras\\layers\\__init__.py\", line 22, in <module>\n",
      "    from tensorflow_text.python.keras.layers.tokenization_layers import *\n",
      "  File \"C:\\Users\\abhi1\\AppData\\Roaming\\Python\\Python39\\site-packages\\tensorflow_text\\python\\keras\\layers\\tokenization_layers.py\", line 25, in <module>\n",
      "    from tensorflow_text.python.ops import unicode_script_tokenizer\n",
      "  File \"C:\\Users\\abhi1\\AppData\\Roaming\\Python\\Python39\\site-packages\\tensorflow_text\\python\\ops\\__init__.py\", line 25, in <module>\n",
      "    from tensorflow_text.python.ops.bert_tokenizer import BertTokenizer\n",
      "  File \"C:\\Users\\abhi1\\AppData\\Roaming\\Python\\Python39\\site-packages\\tensorflow_text\\python\\ops\\bert_tokenizer.py\", line 28, in <module>\n",
      "    from tensorflow_text.python.ops import regex_split_ops\n",
      "  File \"C:\\Users\\abhi1\\AppData\\Roaming\\Python\\Python39\\site-packages\\tensorflow_text\\python\\ops\\regex_split_ops.py\", line 23, in <module>\n",
      "    gen_regex_split_ops = load_library.load_op_library(resource_loader.get_path_to_datafile('_regex_split_ops.so'))\n",
      "  File \"C:\\Users\\abhi1\\anaconda3\\lib\\site-packages\\tensorflow\\python\\framework\\load_library.py\", line 54, in load_op_library\n",
      "    lib_handle = py_tf.TF_LoadLibrary(library_filename)\n",
      "tensorflow.python.framework.errors_impl.NotFoundError: C:\\Users\\abhi1\\AppData\\Roaming\\Python\\Python39\\site-packages\\tensorflow_text\\python\\ops\\_regex_split_ops.so not found\n"
     ]
    }
   ],
   "source": [
    "root_tk.mainloop()"
   ]
  }
 ],
 "metadata": {
  "kernelspec": {
   "display_name": "Python 3 (ipykernel)",
   "language": "python",
   "name": "python3"
  },
  "language_info": {
   "codemirror_mode": {
    "name": "ipython",
    "version": 3
   },
   "file_extension": ".py",
   "mimetype": "text/x-python",
   "name": "python",
   "nbconvert_exporter": "python",
   "pygments_lexer": "ipython3",
   "version": "3.9.16"
  }
 },
 "nbformat": 4,
 "nbformat_minor": 5
}
