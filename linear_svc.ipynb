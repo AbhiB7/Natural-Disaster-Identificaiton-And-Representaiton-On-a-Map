{
 "cells": [
  {
   "cell_type": "code",
   "execution_count": 1,
   "id": "d3aa56aa",
   "metadata": {},
   "outputs": [],
   "source": [
    "#import train csv\n",
    "import pandas as pd\n",
    "import numpy as np\n",
    "df = pd.read_csv('kerala_flood_nepal_earthquake_english_only.csv')\n",
    "#test = pd.read_csv('~/project/nlp-getting-started/test.csv')"
   ]
  },
  {
   "cell_type": "code",
   "execution_count": 2,
   "id": "a8a78e61",
   "metadata": {
    "scrolled": true
   },
   "outputs": [
    {
     "name": "stdout",
     "output_type": "stream",
     "text": [
      "      Unnamed: 0  index                                              tweet  \\\n",
      "0              0      1  4.1 magnitude earthquake hits western Nepal - ...   \n",
      "1              1      7  Nepal earthquake: At least six dead as powerfu...   \n",
      "2              2      8  Anyone know a Nepal fanbase or at least a gc ?...   \n",
      "3              3     12  @republic Earthquake tremors felt across Delhi...   \n",
      "4              4     13  @boomerdoc410_ This could be bad. Nepal earthq...   \n",
      "...          ...    ...                                                ...   \n",
      "6546        6546   4992  Multi Stain Remover No Acid on Amazon https://...   \n",
      "6547        6547   4994  Dream Land is the place that gives you space f...   \n",
      "6548        6548   4996  Will request the Honble governor to call a spe...   \n",
      "6549        6549   4997  #RelianceFoundation distributed 15 dry ration ...   \n",
      "6550        6550   4999  I wish all the Kerela people a happy EID MUBAR...   \n",
      "\n",
      "      target  \n",
      "0          1  \n",
      "1          1  \n",
      "2          0  \n",
      "3          1  \n",
      "4          1  \n",
      "...      ...  \n",
      "6546       0  \n",
      "6547       0  \n",
      "6548       1  \n",
      "6549       1  \n",
      "6550       1  \n",
      "\n",
      "[6551 rows x 4 columns]\n"
     ]
    }
   ],
   "source": [
    "#dropping all the things without a numeral in it\n",
    "#for i in df:\n",
    " #   if not(isnumeric(df[i][target]):\n",
    " #       df.drop(i)\n",
    "print(df)      "
   ]
  },
  {
   "cell_type": "code",
   "execution_count": 3,
   "id": "0cf6d387",
   "metadata": {
    "scrolled": false
   },
   "outputs": [
    {
     "data": {
      "text/plain": [
       "Unnamed: 0    0\n",
       "index         0\n",
       "tweet         0\n",
       "target        0\n",
       "dtype: int64"
      ]
     },
     "execution_count": 3,
     "metadata": {},
     "output_type": "execute_result"
    }
   ],
   "source": [
    "df.isnull().sum()"
   ]
  },
  {
   "cell_type": "code",
   "execution_count": 4,
   "id": "61039ace",
   "metadata": {},
   "outputs": [
    {
     "ename": "ModuleNotFoundError",
     "evalue": "No module named 'nltk'",
     "output_type": "error",
     "traceback": [
      "\u001b[0;31m---------------------------------------------------------------------------\u001b[0m",
      "\u001b[0;31mModuleNotFoundError\u001b[0m                       Traceback (most recent call last)",
      "Cell \u001b[0;32mIn[4], line 3\u001b[0m\n\u001b[1;32m      1\u001b[0m \u001b[38;5;66;03m# pre processing step\u001b[39;00m\n\u001b[1;32m      2\u001b[0m \u001b[38;5;66;03m#start with lower casing everything\u001b[39;00m\n\u001b[0;32m----> 3\u001b[0m \u001b[38;5;28;01mfrom\u001b[39;00m \u001b[38;5;21;01mnltk\u001b[39;00m\u001b[38;5;21;01m.\u001b[39;00m\u001b[38;5;21;01mstem\u001b[39;00m \u001b[38;5;28;01mimport\u001b[39;00m WordNetLemmatizer\n\u001b[1;32m      4\u001b[0m lemmatizer \u001b[38;5;241m=\u001b[39m WordNetLemmatizer()\n\u001b[1;32m      5\u001b[0m \u001b[38;5;28;01mimport\u001b[39;00m \u001b[38;5;21;01mstring\u001b[39;00m\n",
      "\u001b[0;31mModuleNotFoundError\u001b[0m: No module named 'nltk'"
     ]
    }
   ],
   "source": [
    "# pre processing step\n",
    "#start with lower casing everything\n",
    "from nltk.stem import WordNetLemmatizer\n",
    "lemmatizer = WordNetLemmatizer()\n",
    "import string\n",
    "string.punctuation\n",
    "\n",
    "# print(lemmatizer.lemmatize(\"Machine\", pos='n'))\n",
    "# # pos: parts of speech tag, verb\n",
    "# print(lemmatizer.lemmatize(\"caring\", pos='v'))\n",
    "from nltk.stem import WordNetLemmatizer \n",
    "from nltk.corpus import stopwords \n",
    "from nltk.tokenize import word_tokenize"
   ]
  },
  {
   "cell_type": "code",
   "execution_count": null,
   "id": "54382def",
   "metadata": {},
   "outputs": [],
   "source": [
    "import nltk\n",
    "nltk.download()"
   ]
  },
  {
   "cell_type": "code",
   "execution_count": null,
   "id": "d33841c0",
   "metadata": {
    "scrolled": true
   },
   "outputs": [],
   "source": [
    "stop_words = set(stopwords.words('english')) \n",
    "for row in range (0,df.index[-1]):\n",
    "    str1 = df.loc[row]['tweet']\n",
    "    str1=\"\".join([i for i in str1 if i not in string.punctuation])  #punctuation removal\n",
    "    str1 = ''.join([i for i in str1 if not i.isdigit()])\n",
    "    str1 = str1.lower()#lowercase\n",
    "    word_tokens = word_tokenize(str1) #tokenize\n",
    "    filtered_list = [w for w in word_tokens if not w in stop_words]#removal of stop words\n",
    "    lemmetized_list = [lemmatizer.lemmatize(w) for w in word_tokens]  #lemmetization  \n",
    "    filtered_sent = ' '.join(lemmetized_list)\n",
    "    df.at[row, 'text'] = filtered_sent"
   ]
  },
  {
   "cell_type": "code",
   "execution_count": null,
   "id": "50d98a96",
   "metadata": {
    "scrolled": false
   },
   "outputs": [],
   "source": [
    "df"
   ]
  },
  {
   "cell_type": "code",
   "execution_count": null,
   "id": "211308e3",
   "metadata": {},
   "outputs": [],
   "source": [
    "X = df['text']\n",
    "y = df['target']"
   ]
  },
  {
   "cell_type": "code",
   "execution_count": null,
   "id": "03f437ad",
   "metadata": {
    "scrolled": true
   },
   "outputs": [],
   "source": [
    "from sklearn.model_selection import train_test_split\n",
    "\n",
    "X_train, X_test, y_train, y_test = train_test_split(X, y, test_size=0.33, random_state=42)\n",
    "\n",
    "print('Training Data Shape:', X_train.shape)\n",
    "print('Testing Data Shape: ', X_test.shape)"
   ]
  },
  {
   "cell_type": "code",
   "execution_count": null,
   "id": "4cb6e334",
   "metadata": {},
   "outputs": [],
   "source": [
    "print(X_train)\n",
    "X_train = X_train.astype(str)"
   ]
  },
  {
   "cell_type": "code",
   "execution_count": null,
   "id": "e527a88b",
   "metadata": {},
   "outputs": [],
   "source": [
    "from sklearn.feature_extraction.text import CountVectorizer\n",
    "count_vect = CountVectorizer()\n",
    "\n",
    "X_train_counts = count_vect.fit_transform(X_train)\n",
    "#p_test.SentimentText=p_test.SentimentText.astype(str)\n",
    "X_train_counts.shape"
   ]
  },
  {
   "cell_type": "code",
   "execution_count": null,
   "id": "a5a101e0",
   "metadata": {},
   "outputs": [],
   "source": [
    "from sklearn.feature_extraction.text import TfidfTransformer\n",
    "tfidf_transformer = TfidfTransformer()\n",
    "\n",
    "X_train_tfidf = tfidf_transformer.fit_transform(X_train_counts)\n",
    "X_train_tfidf.shape\n",
    "# otherwise this can be done other than the top 2 steps\n",
    "# from sklearn.feature_extraction.text import TfidfVectorizer\n",
    "# vectorizer = TfidfVectorizer()\n",
    "\n",
    "# X_train_tfidf = vectorizer.fit_transform(X_train) # remember to use the original X_train set\n",
    "# X_train_tfidf.shape"
   ]
  },
  {
   "cell_type": "code",
   "execution_count": null,
   "id": "9c219cf2",
   "metadata": {},
   "outputs": [],
   "source": [
    "from sklearn.svm import LinearSVC\n",
    "clf = LinearSVC()\n",
    "clf.fit(X_train_tfidf,y_train)"
   ]
  },
  {
   "cell_type": "code",
   "execution_count": null,
   "id": "fc3d6458",
   "metadata": {},
   "outputs": [],
   "source": [
    "from sklearn.pipeline import Pipeline\n",
    "from sklearn.feature_extraction.text import TfidfVectorizer\n",
    "from sklearn.svm import LinearSVC\n",
    "\n",
    "text_clf = Pipeline([('tfidf', TfidfVectorizer()),\n",
    "                     ('clf', LinearSVC()),\n",
    "])\n",
    "\n",
    "# Feed the training data through the pipeline\n",
    "text_clf.fit(X_train, y_train)  "
   ]
  },
  {
   "cell_type": "code",
   "execution_count": null,
   "id": "dcf5ceca",
   "metadata": {
    "scrolled": false
   },
   "outputs": [],
   "source": [
    "predictions = text_clf.predict(X_test)\n",
    "from sklearn import metrics\n",
    "print(metrics.confusion_matrix(y_test,predictions))\n",
    "print(metrics.classification_report(y_test,predictions))\n",
    "print(\"accuracy is\", metrics.accuracy_score(y_test,predictions))"
   ]
  },
  {
   "cell_type": "code",
   "execution_count": null,
   "id": "03e563d7",
   "metadata": {},
   "outputs": [],
   "source": [
    "\n",
    "examples = [\n",
    "    'My heart goes out to the victims',  # this is the same sentence tried earlier\n",
    "    'Its a nice day today',\n",
    "    'The flood is terrible',\n",
    "    'The movie was okish.',\n",
    "    'Hope the families of the people stuck in the earthquake are okay.',\n",
    "    'this earthquake is poggers man'\n",
    "]\n"
   ]
  },
  {
   "cell_type": "code",
   "execution_count": null,
   "id": "7e387148",
   "metadata": {},
   "outputs": [],
   "source": [
    "text_clf.predict(examples)"
   ]
  },
  {
   "cell_type": "code",
   "execution_count": null,
   "id": "471741f4",
   "metadata": {},
   "outputs": [],
   "source": [
    "import pickle\n",
    "filename = '/Major_Project/models/text_clf.sav'\n",
    "pickle.dump(text_clf, open(filename, 'wb'))"
   ]
  },
  {
   "cell_type": "code",
   "execution_count": null,
   "id": "b3556125",
   "metadata": {},
   "outputs": [],
   "source": [
    "loaded_model = pickle.load(open(filename, 'rb'))\n",
    "result = loaded_model.score(X_test, y_test)\n",
    "print(result)"
   ]
  },
  {
   "cell_type": "code",
   "execution_count": null,
   "id": "c66c2253",
   "metadata": {
    "scrolled": true
   },
   "outputs": [],
   "source": [
    "import os\n",
    "os.environ['TF_CPP_MIN_LOG_LEVEL'] = '3' \n",
    "import tensorflow as tf\n",
    "import tensorflow_hub as hub\n",
    "import tensorflow_text as text\n",
    "print('Tensorflow module imported')"
   ]
  },
  {
   "cell_type": "code",
   "execution_count": null,
   "id": "8694948f",
   "metadata": {
    "scrolled": true
   },
   "outputs": [],
   "source": [
    "bert_preprocess = hub.KerasLayer(\"/Major_Project/bert/bert_en_uncased_L-12_H-768_A-12\")\n",
    "bert_encoder = hub.KerasLayer(\"/Major_Project/bert/bert_en_uncased_L-12_H-768_A-12\")\n",
    "print('encoder and preprocessor ready')"
   ]
  },
  {
   "cell_type": "code",
   "execution_count": null,
   "id": "327d3e14",
   "metadata": {
    "scrolled": true
   },
   "outputs": [],
   "source": [
    "def get_sentence_embeding(sentences):\n",
    "    preprocessed_text = bert_preprocess(sentences)\n",
    "    return bert_encoder(preprocessed_text)['pooled_output']"
   ]
  },
  {
   "cell_type": "code",
   "execution_count": null,
   "id": "1cd9d491",
   "metadata": {},
   "outputs": [],
   "source": [
    "def build_classifier_model():\n",
    "  text_input = tf.keras.layers.Input(shape=(), dtype=tf.string, name='text')\n",
    "  preprocessing_layer = hub.KerasLayer(tfhub_handle_preprocess, name='preprocessing')\n",
    "  encoder_inputs = bert_preprocess(text_input)\n",
    "  encoder = hub.KerasLayer(tfhub_handle_encoder, trainable=True, name='BERT_encoder')\n",
    "  outputs = encoder(encoder_inputs)\n",
    "  net = outputs['pooled_output']\n",
    "  net = tf.keras.layers.Dropout(0.1)(net)\n",
    "  net = tf.keras.layers.Dense(1, activation=None, name='classifier')(net)\n",
    "  return tf.keras.Model(text_input, net)\n",
    "classifier_model = build_classifier_model()\n",
    "bert_raw_result = classifier_model(tf.constant(text_test))\n",
    "print(tf.sigmoid(bert_raw_result))\n"
   ]
  },
  {
   "cell_type": "code",
   "execution_count": null,
   "id": "d1312ab5",
   "metadata": {},
   "outputs": [],
   "source": [
    "# # text_input = tf.keras.layers.Input(shape=(), dtype=tf.string, name='text')\n",
    "# text_input = tf.keras.layers.Input(shape=(), name=\"Input\", dtype=tf.string)\n",
    "# preprocessed_text = bert_preprocess(text_input)\n",
    "# outputs = bert_encoder(preprocessed_text)\n",
    "# l = tf.keras.layers.Dropout(0.1, name=\"dropout\")(outputs['pooled_output'])\n",
    "# l = tf.keras.layers.Dense(1, activation='sigmoid', name=\"output\")(l)\n",
    "# model = tf.keras.Model(inputs=[text_input], outputs = [l])\n",
    "# # input = tf.keras.layers.Input(shape=(), name=\"Input\", dtype=tf.string)"
   ]
  },
  {
   "cell_type": "code",
   "execution_count": null,
   "id": "4f7d8c58",
   "metadata": {},
   "outputs": [],
   "source": [
    "# path = \"F:\\\\Major_Project\\\\models\\\\100\\\\checkpoint.ckpt\""
   ]
  },
  {
   "cell_type": "code",
   "execution_count": null,
   "id": "94c4a586",
   "metadata": {
    "scrolled": true
   },
   "outputs": [],
   "source": [
    "# model.load_weights(path)"
   ]
  },
  {
   "cell_type": "code",
   "execution_count": null,
   "id": "1f98dc71",
   "metadata": {},
   "outputs": [],
   "source": [
    "# model.summary()"
   ]
  },
  {
   "cell_type": "code",
   "execution_count": null,
   "id": "f41af438",
   "metadata": {},
   "outputs": [],
   "source": [
    "METRICS = [\n",
    "      tf.keras.metrics.BinaryAccuracy(name='accuracy'),\n",
    "      tf.keras.metrics.Precision(name='precision'),\n",
    "      tf.keras.metrics.Recall(name='recall')\n",
    "]\n",
    "\n",
    "model.compile(optimizer='adam',\n",
    "              loss='binary_crossentropy',\n",
    "              metrics=METRICS)"
   ]
  },
  {
   "cell_type": "code",
   "execution_count": null,
   "id": "4fe61637",
   "metadata": {},
   "outputs": [],
   "source": [
    "# cp_callback = tf.keras.callbacks.ModelCheckpoint(filepath='bert_checkpoint.ckpt',\n",
    "#                                                  save_weights_only=True,\n",
    "#                                                  verbose=1)\n"
   ]
  },
  {
   "cell_type": "code",
   "execution_count": null,
   "id": "08e31eec",
   "metadata": {},
   "outputs": [],
   "source": [
    "y_train"
   ]
  },
  {
   "cell_type": "code",
   "execution_count": null,
   "id": "868de899",
   "metadata": {},
   "outputs": [],
   "source": [
    "model.fit(X_train, y_train, epochs=63,callbacks=[cp_callback])"
   ]
  }
 ],
 "metadata": {
  "kernelspec": {
   "display_name": "Python 3 (ipykernel)",
   "language": "python",
   "name": "python3"
  },
  "language_info": {
   "codemirror_mode": {
    "name": "ipython",
    "version": 3
   },
   "file_extension": ".py",
   "mimetype": "text/x-python",
   "name": "python",
   "nbconvert_exporter": "python",
   "pygments_lexer": "ipython3",
   "version": "3.11.4"
  }
 },
 "nbformat": 4,
 "nbformat_minor": 5
}
